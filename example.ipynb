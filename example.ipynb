{
 "cells": [
  {
   "cell_type": "code",
   "execution_count": 1,
   "metadata": {},
   "outputs": [
    {
     "name": "stderr",
     "output_type": "stream",
     "text": [
      "/home/rahman79/miniconda3/envs/local_scale/lib/python3.11/site-packages/requests/__init__.py:109: RequestsDependencyWarning: urllib3 (2.2.3) or chardet (None)/charset_normalizer (2.1.1) doesn't match a supported version!\n",
      "  warnings.warn(\n"
     ]
    }
   ],
   "source": [
    "import torch\n",
    "from utils.sampling_utils import *\n",
    "import matplotlib.pyplot as plt"
   ]
  },
  {
   "cell_type": "markdown",
   "metadata": {},
   "source": [
    "## Local Scaling\n",
    "\n",
    "First see the local scaling operation in action on MNIST dataset."
   ]
  },
  {
   "cell_type": "code",
   "execution_count": 2,
   "metadata": {},
   "outputs": [
    {
     "name": "stdout",
     "output_type": "stream",
     "text": [
      "Downloading http://yann.lecun.com/exdb/mnist/train-images-idx3-ubyte.gz\n",
      "Failed to download (trying next):\n",
      "HTTP Error 404: Not Found\n",
      "\n",
      "Downloading https://ossci-datasets.s3.amazonaws.com/mnist/train-images-idx3-ubyte.gz\n",
      "Downloading https://ossci-datasets.s3.amazonaws.com/mnist/train-images-idx3-ubyte.gz to data/MNIST/raw/train-images-idx3-ubyte.gz\n"
     ]
    },
    {
     "name": "stderr",
     "output_type": "stream",
     "text": [
      "100%|██████████| 9912422/9912422 [00:00<00:00, 54116649.48it/s]\n"
     ]
    },
    {
     "name": "stdout",
     "output_type": "stream",
     "text": [
      "Extracting data/MNIST/raw/train-images-idx3-ubyte.gz to data/MNIST/raw\n",
      "\n",
      "Downloading http://yann.lecun.com/exdb/mnist/train-labels-idx1-ubyte.gz\n",
      "Failed to download (trying next):\n",
      "HTTP Error 404: Not Found\n",
      "\n",
      "Downloading https://ossci-datasets.s3.amazonaws.com/mnist/train-labels-idx1-ubyte.gz\n",
      "Downloading https://ossci-datasets.s3.amazonaws.com/mnist/train-labels-idx1-ubyte.gz to data/MNIST/raw/train-labels-idx1-ubyte.gz\n"
     ]
    },
    {
     "name": "stderr",
     "output_type": "stream",
     "text": [
      "100%|██████████| 28881/28881 [00:00<00:00, 1280504.16it/s]\n"
     ]
    },
    {
     "name": "stdout",
     "output_type": "stream",
     "text": [
      "Extracting data/MNIST/raw/train-labels-idx1-ubyte.gz to data/MNIST/raw\n",
      "\n",
      "Downloading http://yann.lecun.com/exdb/mnist/t10k-images-idx3-ubyte.gz\n",
      "Failed to download (trying next):\n",
      "HTTP Error 404: Not Found\n",
      "\n",
      "Downloading https://ossci-datasets.s3.amazonaws.com/mnist/t10k-images-idx3-ubyte.gz\n",
      "Downloading https://ossci-datasets.s3.amazonaws.com/mnist/t10k-images-idx3-ubyte.gz to data/MNIST/raw/t10k-images-idx3-ubyte.gz\n"
     ]
    },
    {
     "name": "stderr",
     "output_type": "stream",
     "text": [
      "100%|██████████| 1648877/1648877 [00:00<00:00, 12641046.75it/s]\n"
     ]
    },
    {
     "name": "stdout",
     "output_type": "stream",
     "text": [
      "Extracting data/MNIST/raw/t10k-images-idx3-ubyte.gz to data/MNIST/raw\n",
      "\n",
      "Downloading http://yann.lecun.com/exdb/mnist/t10k-labels-idx1-ubyte.gz\n",
      "Failed to download (trying next):\n",
      "HTTP Error 404: Not Found\n",
      "\n",
      "Downloading https://ossci-datasets.s3.amazonaws.com/mnist/t10k-labels-idx1-ubyte.gz\n",
      "Downloading https://ossci-datasets.s3.amazonaws.com/mnist/t10k-labels-idx1-ubyte.gz to data/MNIST/raw/t10k-labels-idx1-ubyte.gz\n"
     ]
    },
    {
     "name": "stderr",
     "output_type": "stream",
     "text": [
      "100%|██████████| 4542/4542 [00:00<00:00, 3615587.16it/s]"
     ]
    },
    {
     "name": "stdout",
     "output_type": "stream",
     "text": [
      "Extracting data/MNIST/raw/t10k-labels-idx1-ubyte.gz to data/MNIST/raw\n",
      "\n"
     ]
    },
    {
     "name": "stderr",
     "output_type": "stream",
     "text": [
      "\n"
     ]
    }
   ],
   "source": [
    "# load the mnist dataset\n",
    "from torchvision import datasets, transforms\n",
    "from torch.utils.data import DataLoader\n",
    "from torchvision.transforms import ToTensor\n",
    "\n",
    "transform = transforms.Compose([transforms.ToTensor()])\n",
    "train_dataset = datasets.MNIST(root='data', train=True, download=True, transform=transform)\n",
    "train_loader = DataLoader(train_dataset, batch_size=64, shuffle=True)\n"
   ]
  },
  {
   "cell_type": "code",
   "execution_count": 12,
   "metadata": {},
   "outputs": [
    {
     "data": {
      "image/png": "[encoded data removed]",
      "text/plain": [
       "<Figure size 600x300 with 2 Axes>"
      ]
     },
     "metadata": {},
     "output_type": "display_data"
    }
   ],
   "source": [
    "for data in train_loader:\n",
    "    x, y = data\n",
    "    param_x = torch.rand(x.shape[0], 8,7) * 0.5\n",
    "    param_y = torch.rand(y.shape[0], 8,7) * 0.1\n",
    "\n",
    "    # the defomatioon amount depeends on the variation of the parameters\n",
    "    # randn is multiplied by 0.15 to get a small variance, thus the deformation is small\n",
    "    x_augmented = deform(param_x, param_y, x) # this function is defined in the utils/sampling_utils.py file\n",
    "\n",
    "    fig, axs = plt.subplots(1, 2, figsize=(6, 3))\n",
    "    axs[0].imshow(x[0][0].detach().numpy(), cmap='gray')\n",
    "    axs[0].set_title('Original Image')\n",
    "    axs[1].imshow(x_augmented[0][0].detach().numpy(), cmap='gray')\n",
    "    axs[1].set_title('Augmented Image')\n",
    "    plt.show()\n",
    "    break"
   ]
  },
  {
   "cell_type": "markdown",
   "metadata": {},
   "source": [
    "## Backbone model\n",
    "First let us create a two layer CNN, which will act as our backbone model.\n",
    "In readworld case, this could be pre-trained SwinVit on imagenet."
   ]
  },
  {
   "cell_type": "code",
   "execution_count": 14,
   "metadata": {},
   "outputs": [],
   "source": [
    "# create an 2 layered CNN for Mnist\n",
    "class CNN(torch.nn.Module):\n",
    "    def __init__(self):\n",
    "        super(CNN, self).__init__()\n",
    "        self.conv1 = torch.nn.Conv2d(1, 32, kernel_size=5)\n",
    "        self.conv2 = torch.nn.Conv2d(32, 64, kernel_size=5)\n",
    "        self.fc1 = torch.nn.Linear(1024, 128)\n",
    "        self.fc2 = torch.nn.Linear(128, 10)\n",
    "    \n",
    "    def forward(self, x):\n",
    "\n",
    "        # first block\n",
    "        x = self.conv1(x)\n",
    "        x = torch.nn.functional.relu(x)\n",
    "        x = torch.nn.functional.max_pool2d(x, 2)\n",
    "\n",
    "        # second block\n",
    "        x = self.conv2(x)\n",
    "        x = torch.nn.functional.relu(x)\n",
    "        x = torch.nn.functional.max_pool2d(x, 2)\n",
    "\n",
    "        # final classifier\n",
    "        x = x.view(-1, 1024)\n",
    "        x = self.fc1(x)\n",
    "        x = torch.nn.functional.relu(x)\n",
    "        x = self.fc2(x)\n",
    "        return x"
   ]
  },
  {
   "cell_type": "markdown",
   "metadata": {},
   "source": [
    "## Cannonicalizer\n",
    "\n",
    "We will use a deep equilibrium model a our cannonicalizer, which iteratively fed its own output. The following is simple example of DEM. And in this example, we are doing to do adaptation only on the first block of the CNN (backbone) model.\n",
    "\n",
    "In practive, we will do adaptation in more than 1 block of backbone model and the DEM model will be used each such adaptation. "
   ]
  },
  {
   "cell_type": "code",
   "execution_count": 15,
   "metadata": {},
   "outputs": [],
   "source": [
    "class DEM(torch.nn.Module):\n",
    "    def __init__(self):\n",
    "        super(DEM, self).__init__()\n",
    "        self.conv1 = torch.nn.Conv2d(1, 32, kernel_size=5)\n",
    "        self.conv2 = torch.nn.Conv2d(32, 2, kernel_size=5)\n",
    "        self.avg_pool = torch.nn.AdaptiveAvgPool2d((4,3))\n",
    "    \n",
    "    def forward(self, x, phi_x, phi_y):\n",
    "        x = deform(phi_x, phi_y, x)\n",
    "        x = self.conv1(x)\n",
    "        x = torch.nn.functional.relu(x)\n",
    "        x = torch.nn.functional.max_pool2d(x, 2)\n",
    "\n",
    "        x = self.conv2(x)\n",
    "        x = torch.nn.functional.relu(x)\n",
    "        x = torch.nn.functional.max_pool2d(x, 2)\n",
    "\n",
    "        x = self.avg_pool(x)\n",
    "\n",
    "        return x[:, 0, :,:], x[:, 1, :,:]\n",
    "    def _DEM(self, x, phi_x, phi_y):\n",
    "\n",
    "        out_x, out_y = phi_x.clone(), phi_y.clone()\n",
    "        for _ in range(10):\n",
    "            out_x, out_y = self.forward(x.clone(), out_x, out_y)\n",
    "        \n",
    "        return out_x, out_y"
   ]
  },
  {
   "cell_type": "markdown",
   "metadata": {},
   "source": [
    "## Adaptation\n",
    "\n",
    "In the following, we will demonstrate how to incorporate our proposed adaptation into the backbone CNN model."
   ]
  },
  {
   "cell_type": "code",
   "execution_count": 16,
   "metadata": {},
   "outputs": [],
   "source": [
    "class adaCNN(CNN):\n",
    "    def __init__(self):\n",
    "        super(adaCNN, self).__init__()\n",
    "    \n",
    "    def forward(self,\n",
    "                x,\n",
    "                phi_x,\n",
    "                phi_y):\n",
    "        \n",
    "        # deform the input\n",
    "        x = deform(phi_x, phi_y, x)\n",
    "        x = self.conv1(x)\n",
    "        x = torch.nn.functional.relu(x)\n",
    "        x = torch.nn.functional.max_pool2d(x, 2)\n",
    "        # undo the deformation\n",
    "        # this is for demonstration purposes\n",
    "        # in practice, for classificxation, we do not need to undo the deformation\n",
    "        # undoing the deformation is required for Segmentation, Depth Estimation, etc.\n",
    "        x = inv_deform(phi_x, phi_y, x)\n",
    "\n",
    "        x = self.conv2(x)\n",
    "        x = torch.nn.functional.relu(x)\n",
    "        x = torch.nn.functional.max_pool2d(x, 2)\n",
    "        \n",
    "        x = x.view(-1, 1024)\n",
    "        x = self.fc1(x)\n",
    "        x = torch.nn.functional.relu(x)\n",
    "        x = self.fc2(x)\n",
    "\n",
    "        return x "
   ]
  },
  {
   "cell_type": "code",
   "execution_count": 17,
   "metadata": {},
   "outputs": [],
   "source": [
    "# this is initial parameters for the augmentation network\n",
    "# this corresponds to no deformation or identity transformation\n",
    "phi_x = torch.ones(1, 4,3).requires_grad_(True).to('cuda:0')\n",
    "phi_y = torch.ones(1, 4,3).requires_grad_(True).to('cuda:0')\n",
    "\n",
    "adacnn = adaCNN().to('cuda:0')\n",
    "dem = DEM().to('cuda:0')"
   ]
  },
  {
   "cell_type": "code",
   "execution_count": null,
   "metadata": {},
   "outputs": [],
   "source": [
    "optimizer = torch.optim.Adam(list(adacnn.parameters()), lr=1e-3)\n",
    "optimizer_dem = torch.optim.Adam(list(dem.parameters()), lr=1e-3)\n",
    "\n",
    "for data in train_loader:\n",
    "    x, y = data\n",
    "    # zero the gradients\n",
    "    optimizer.zero_grad()\n",
    "    optimizer_dem.zero_grad()\n",
    "\n",
    "    # repeat the parameters for each image in the batch\n",
    "    phi_x_batch, phi_y_batch = phi_x.repeat(x.shape[0], 1, 1), phi_y.repeat(x.shape[0], 1, 1)\n",
    "\n",
    "    # canonicalizated parameters\n",
    "    phi_x_can, phi_y_can = dem._DEM(x.to('cuda:0'), phi_x_batch, phi_y_batch)\n",
    "\n",
    "    out = adacnn(x.to('cuda:0'), phi_x_can, phi_y_can)\n",
    "\n",
    "    loss = torch.nn.CrossEntropyLoss()(out, y.to('cuda:0'))\n",
    "\n",
    "    loss.backward()\n",
    "    optimizer.step()\n",
    "    optimizer_dem.step()\n",
    "\n",
    "    print(\"out shape\", out.shape)\n",
    "    print(\"loss\", loss.item())\n"
   ]
  }
 ],
 "metadata": {
  "kernelspec": {
   "display_name": "local_scale",
   "language": "python",
   "name": "python3"
  },
  "language_info": {
   "codemirror_mode": {
    "name": "ipython",
    "version": 3
   },
   "file_extension": ".py",
   "mimetype": "text/x-python",
   "name": "python",
   "nbconvert_exporter": "python",
   "pygments_lexer": "ipython3",
   "version": "3.11.5"
  }
 },
 "nbformat": 4,
 "nbformat_minor": 2
}
